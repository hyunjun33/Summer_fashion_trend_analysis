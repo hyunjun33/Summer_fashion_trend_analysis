{
 "cells": [
  {
   "cell_type": "code",
   "execution_count": 1,
   "metadata": {},
   "outputs": [],
   "source": [
    "import pandas as pd\n",
    "import numpy as np\n",
    "import glob\n",
    "import os\n",
    "import sys"
   ]
  },
  {
   "cell_type": "code",
   "execution_count": 7,
   "metadata": {},
   "outputs": [],
   "source": [
    "import time\n",
    "import pyexcel as px"
   ]
  },
  {
   "cell_type": "code",
   "execution_count": 16,
   "metadata": {},
   "outputs": [
    {
     "name": "stdout",
     "output_type": "stream",
     "text": [
      "['C:/Users/myhkj\\\\2021년_여름 패션 트렌드_2021_0705_18.xlsx', 'C:/Users/myhkj\\\\2021년_여름_컬러_2021_0705_18.xlsx', 'C:/Users/myhkj\\\\2021년_여름유행패션_2021_0705_18.xlsx', 'C:/Users/myhkj\\\\2021년_여름패션_2021_0705_17.xlsx', 'C:/Users/myhkj\\\\2021년_올여름패션_2021_0705_17.xlsx', 'C:/Users/myhkj\\\\2021년_패션 트렌드_2021_0705_17.xlsx']\n"
     ]
    }
   ],
   "source": [
    "input_file = r'C:/Users/myhkj'\n",
    "output_file = r'C:/Users/myhkj/2021_fashion_news.xlsx'\n",
    "\n",
    "allFile_list = glob.glob(os.path.join(input_file, '2021년_*.xlsx'))\n",
    "\n",
    "print(allFile_list)\n",
    "\n",
    "allData = []\n",
    "for file in allFile_list:\n",
    "    df = pd.read_excel(file)\n",
    "    allData.append(df)\n",
    "    \n",
    "dataCombine = pd.concat(allData, axis=0, ignore_index = True)\n",
    "dataCombine.to_excel(output_file, index=False)"
   ]
  },
  {
   "cell_type": "code",
   "execution_count": 23,
   "metadata": {},
   "outputs": [
    {
     "name": "stdout",
     "output_type": "stream",
     "text": [
      "6\n"
     ]
    }
   ],
   "source": [
    "print(len(allFile_list))"
   ]
  },
  {
   "cell_type": "code",
   "execution_count": null,
   "metadata": {},
   "outputs": [],
   "source": []
  }
 ],
 "metadata": {
  "kernelspec": {
   "display_name": "Python 3",
   "language": "python",
   "name": "python3"
  },
  "language_info": {
   "codemirror_mode": {
    "name": "ipython",
    "version": 3
   },
   "file_extension": ".py",
   "mimetype": "text/x-python",
   "name": "python",
   "nbconvert_exporter": "python",
   "pygments_lexer": "ipython3",
   "version": "3.8.5"
  }
 },
 "nbformat": 4,
 "nbformat_minor": 4
}
