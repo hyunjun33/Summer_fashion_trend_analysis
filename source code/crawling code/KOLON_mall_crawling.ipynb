{
 "cells": [
  {
   "cell_type": "code",
   "execution_count": 1,
   "metadata": {},
   "outputs": [],
   "source": [
    "from IPython.display import display, Image \n",
    "import os, warnings\n",
    "import re\n",
    "warnings.filterwarnings(action= 'ignore')\n",
    "\n",
    "from selenium import webdriver\n",
    "from bs4 import BeautifulSoup\n",
    "from selenium.webdriver.common.action_chains import ActionChains"
   ]
  },
  {
   "cell_type": "code",
   "execution_count": 2,
   "metadata": {},
   "outputs": [
    {
     "data": {
      "text/plain": [
       "<selenium.webdriver.chrome.webdriver.WebDriver (session=\"e9b649c8e227a3df09d01a062b192cf9\")>"
      ]
     },
     "execution_count": 2,
     "metadata": {},
     "output_type": "execute_result"
    }
   ],
   "source": [
    "driver = webdriver.Chrome('/Users/jeffreylee/chromedriver_90')\n",
    "driver"
   ]
  },
  {
   "cell_type": "code",
   "execution_count": 3,
   "metadata": {},
   "outputs": [],
   "source": [
    "url=\"https://www.kolonmall.com/\"\n",
    "driver.get(url)"
   ]
  },
  {
   "cell_type": "code",
   "execution_count": 4,
   "metadata": {},
   "outputs": [],
   "source": [
    "#Best 태그로 들어가기\n",
    "sel_search = driver.find_element_by_xpath('//*[@id=\"__next\"]/div[1]/div[1]/header/div[2]/div/ul[2]/div/div/li[10]/a')\n",
    "sel_search.click()"
   ]
  },
  {
   "cell_type": "code",
   "execution_count": null,
   "metadata": {},
   "outputs": [],
   "source": [
    "여성 카테고리\n",
    "sel_search = driver.find_element_by_xpath('//*[@id=\"__next\"]/div[1]/div[3]/div/div[1]/button[2]')\n",
    "sel_search.click()"
   ]
  },
  {
   "cell_type": "code",
   "execution_count": 5,
   "metadata": {},
   "outputs": [],
   "source": [
    "#남성 카테고리\n",
    "#sel_search = driver.find_element_by_xpath('//*[@id=\"__next\"]/div[1]/div[3]/div/div[1]/button[3]')\n",
    "#sel_search.click()"
   ]
  },
  {
   "cell_type": "code",
   "execution_count": 12,
   "metadata": {},
   "outputs": [
    {
     "name": "stdout",
     "output_type": "stream",
     "text": [
      "['Ruffle Collar Shirts Style Jacket', '[21SS] Linen Flared Dress', 'Stud sleeveless T-shirt', '[CALIFORNIA PROJECT] PARK. PROJECT T-SHIRTS RED WOOD (OATMEAL)', 'Punk CHOUETTE Brooch', 'LUCKY PUNK Lightning Print T-shirt', 'Sleeve Volume Stripe Dress', '[21SS] Linen Flared Dress', 'Hem Flare Cotton Short Sleeve Dress', '주간 판매 15위! HO×THOR 컨테이너 토트박스 53L (Choco)', 'small fling bag(Deep sleep)', 'Chain Point Clog Mule', '[Re-Order] Big Logo Short Sleeve T-shirt', 'TETRIS HEART STRIPE T-SHIRT', 'epke sandal(Cinnamon)', '[Re-Order] Graphic Point Loose-fit T-shirt', 'Star Choker', '[21SS] CO PLEATS PIQUE TOP_BLACK', '[Re-Order] Frill Collar Cotton Short Sleeve Blouse', 'Long Pleated Skirt', 'TETRIS STRIPE SHORT SLEEVE JERESY DRESS', 'Sailor Transform Collar Dress', 'C-Clair(쎄끌레르) Clutch L', 'Back Sleeve Slit Loose-fit T-shirt', 'Smocking Volume Sleeve Robe Style Coat', 'Pillow Bag(Deep sleep)', '주간 판매 11위! 1 MILE PANTS 원마일 팬츠(light khaki)', 'Borabora sandal(navy)', 'SUMMER HOLIDAY Couple T-shirt', 'epke eco bag(Oatmeal)', 'fling bag(Deep sleep)', 'Side Color Line Check Pants', '[아크코펜하겐] Axionn Mesh PWR55 (Black White)', '멸종동물 에디션 붉은발 말똥게 티셔츠 (남여공용)', '[3차리오더] Gingham check Slip Dress (For WOMEN) ', '[24/7 series] USA COTTON TEE SEASON 5 (247)', '[Re-Order] Big Logo Short Sleeve T-shirt', 'Stud Point Denim Vest', '1 MILE CROSS BAG(Black)', 'Mellow pop sneakers(navy)', 'TETRIS SHORT SLEEVE JERESY DRESS', 'small fling bag(My clean bed)', '[21SS] Linen Logo Bonnet Hat', '주간 판매 10위! 1 MILE PANTS 원마일 팬츠(black)', 'Stripe-mix T-shirt', '여성 에어도트 조거 팬츠', '[24/7 series] USA COTTON TEE SEASON 5 (247)', 'Hem Smocking Banding Jogger Pants', '[21SS] Linen Flared Dress', 'Lucky Pleats Knit M_Hazelnut Beige', '1 MILE PANTS 원마일 팬츠(navy)', '[에코백증정] MinA Gentle(미나 젠틀) Tote 32', '[Re-Order] Suspender Roll-up Pants', '[2차리오더] Hemline String Cropped T-shirt (For WOMEN) ', 'Took bag(Oatmeal)', 'Point Embroidery Denim Square Bag', 'Check Mix Layered Long Dress', '[21SS] LUCAS plain shirt', '[among][20SUMMER] A LINEN SHIRRING DR', 'Gingham check Bucket Hat', 'TETRIS HEART CROP T-SHIRT (FOR WOMEN)', 'Donald Chouette Nylon Bucket Bag', '[에코백증정] Écharpes(이 샤페) Micro Charm 13', 'fling bag(Cinnamon)', 'epke flat(My clean bed)', 'Logo Star Print Sleeveless T-shirt', 'Color Patch Denim Long Dress', 'Waist Banding Lace Long Skirt', '[21SS] CO V NECK MAXI DRESS_NAVY', \"D'Allier(달리에) Flat Card Wallet\", 'everyday bag(Chilli brown)', 'Strappy sandal(Deep sleep)', '[Re-Order] Slim-fit Lip Print T-shirt', 'Waist Smocking Sleeveless Hood T-shirt', '[21SS] Linen Logo Bucket Hat', '[BIG WAVE] PEACE BEGINS_PART.2 (OCEAN BLACK)', '[epigram 여성] 시어서커 원단 믹스 원피스', 'Acrylic Kint Mini Cross Bag', '[3차리오더] MARCHÉ CHOUETTE Crop T-shirt (For WOMEN) ', 'epke mule(Deep sleep)', '[Exclusive] Lucky Table Check Banding Pants', 'Superstar Print T-shirt', 'Hem Flare Cotton Short Sleeve Dress', '[21SS] CO WOVEN MIXED KNIT DRESS_BLACK', '[epigram 여성] 버킷햇', 'Flower Lettering Print Jersey Dress (For WOMEN) ', 'SUMMER HOLIDAY Slim-fit T-shirt ', '[2차리오더] Paisley Print Sleeve T-Shirt', 'Hooded Denim Anorak Jumper', 'seesaw bag(Deep sleep)', 'Pillow Bag(Earl grey)', 'Stripe Combination Collarless Vest(check)', 'Logo Print Cubed Long Sleeve T-shirt', 'Logo Print Tie-Dye Loose-fit T-shirt', '[Re-Order] Lettering Print Slim-fit T-shirt', 'Logo Star Print Sleeveless T-shirt', 'String Detail Sailor Blouse', 'Donald Embroidery Point Denim Jumpsuit', 'Check Patch Denim Skirt', '[Re-Order] [셀럽착용] Sailor Collar Check Jacket']\n",
      "['348,000원', '88,000원', '148,000원', '30,400원38,000원20%', '48,000원', '98,000원', '428,000원', '88,000원', '428,000원', '68,000원', '149,000원', '398,000원', '128,000원', '69,000원', '149,000원', '128,000원', '88,000원', '88,200원98,000원10%', '298,000원', '428,000원', '149,000원', '448,000원', '43,200원168,000원74%', '128,000원', '468,000원', '159,000원', '59,000원', '194,600원278,000원30%', '47,200원59,000원20%', '49,000원', '199,000원', '298,000원', '59,000원179,000원67%', '59,400원99,000원40%', '179,000원', '49,000원', '128,000원', '398,000원', '59,000원', '278,000원', '149,000원', '149,000원', '49,000원', '59,000원', '69,000원', '148,000원', '49,000원', '298,000원', '88,000원', '59,800원', '59,000원', '256,800원428,000원40%', '298,000원', '69,000원', '169,000원', '148,000원', '548,000원', '128,000원', '112,500원125,000원10%', '55,200원69,000원20%', '69,000원', '88,000원', '130,800원218,000원40%', '199,000원', '169,000원', '108,000원', '468,000원', '428,000원', '196,200원218,000원10%', '88,200원98,000원10%', '89,000원', '159,000원', '88,000원', '99,000원198,000원50%', '49,000원', '39,900원42,000원5%', '199,000원', '47,200원59,000원20%', '59,000원', '159,000원', '158,000원', '98,000원', '428,000원', '138,600원198,000원30%', '69,000원', '79,200원99,000원20%', '39,200원49,000원20%', '69,000원', '175,200원219,000원20%', '89,000원', '159,000원', '398,000원', '128,000원', '148,000원', '98,000원', '108,000원', '298,000원', '428,000원', '368,000원', '498,000원']\n",
      "['None', '107', 'None', 'None', 'None', 'None', 'None', '107', '4', '65', '232', 'None', '24', '8', '42', '7', 'None', '3', '20', 'None', '9', '4', '2', 'None', '1', '54', '109', 'None', '4', '4', '721', 'None', '4', '52', '81', '2,590', '22', 'None', '1', '20', '9', '69', '3', '60', '17', '21', '2,590', '1', '107', '7', '68', '27', '15', '27', '13', '19', 'None', '1', '11', '18', 'None', '11', '20', '14', '191', 'None', 'None', '1', 'None', '20', '13', '12', '14', '16', '21', '88', '10', '8', '119', '18', '4', 'None', '12', '1', '44', '15', '7', '15', '3', '167', '28', '15', '7', '4', 'None', 'None', '7', '15', 'None', '9']\n"
     ]
    }
   ],
   "source": [
    "from pprint import pprint\n",
    "\n",
    "page = driver.page_source\n",
    "soup = BeautifulSoup(page, 'html.parser')\n",
    "\n",
    "selitems = soup.find_all(\"div\", class_=\"itmtgi-0 cHbJxO\")\n",
    "\n",
    "names = []\n",
    "prices = []\n",
    "itemreviewcount = []\n",
    "\n",
    "\n",
    "for item in selitems:\n",
    "    name = item.find(\"div\", class_=\"itmtgi-11 dnwUOg\").text\n",
    "    names.append(name)\n",
    "    price = item.find(\"p\", class_=\"itmtgi-12 djyfFL\").text\n",
    "    prices.append(price)\n",
    "\n",
    "    if name is None or price is None:\n",
    "        print(\"ERROR. something wierd is happening\")\n",
    "    else:\n",
    "        reviewcount = item.find(\"span\", class_=\"review-count\")\n",
    "        if reviewcount is not None:\n",
    "            itemreviewcount.append(reviewcount.find(\"strong\").text)\n",
    "        else:\n",
    "            itemreviewcount.append(\"None\")\n",
    "\n",
    "\n",
    "print(names)\n",
    "print(prices)\n",
    "print(itemreviewcount)\n",
    "\n"
   ]
  },
  {
   "cell_type": "code",
   "execution_count": 13,
   "metadata": {},
   "outputs": [
    {
     "name": "stdout",
     "output_type": "stream",
     "text": [
      "                                                 제품명                 가격  리뷰 수\n",
      "0                  Ruffle Collar Shirts Style Jacket           348,000원  None\n",
      "1                          [21SS] Linen Flared Dress            88,000원   107\n",
      "2                            Stud sleeveless T-shirt           148,000원  None\n",
      "3  [CALIFORNIA PROJECT] PARK. PROJECT T-SHIRTS RE...  30,400원38,000원20%  None\n",
      "4                               Punk CHOUETTE Brooch            48,000원  None\n",
      "5                 LUCKY PUNK Lightning Print T-shirt            98,000원  None\n",
      "6                         Sleeve Volume Stripe Dress           428,000원  None\n",
      "7                          [21SS] Linen Flared Dress            88,000원   107\n",
      "8                Hem Flare Cotton Short Sleeve Dress           428,000원     4\n",
      "9           주간 판매 15위! HO×THOR 컨테이너 토트박스 53L (Choco)            68,000원    65\n"
     ]
    }
   ],
   "source": [
    "import pandas as pd\n",
    "dict_dat = {\"제품명\": names, \"가격\": prices, \"리뷰 수\": itemreviewcount}\n",
    "dat = pd.DataFrame(dict_dat)\n",
    "print(dat.head(10))"
   ]
  },
  {
   "cell_type": "code",
   "execution_count": 14,
   "metadata": {},
   "outputs": [
    {
     "data": {
      "text/plain": [
       "['covid_info_web_crawling.ipynb',\n",
       " 'June17_movie copy.ipynb',\n",
       " 'EQL_Best_Women.xlsx',\n",
       " 'california_housing_train.csv',\n",
       " 'ShoppingMall_CrawlingKOLONWomen.ipynb',\n",
       " 'June30_plotlyexpress.ipynb',\n",
       " '0628_Review.ipynb',\n",
       " 'company_info1.csv',\n",
       " 'June30_PlotlyPractice_Titanic.ipynb',\n",
       " '.DS_Store',\n",
       " 'June17_movie.ipynb',\n",
       " 'today_corona(population).xlsx',\n",
       " '스파이더맨리리뷰.csv',\n",
       " 'June21_auction.ipynb',\n",
       " 'June30_plotly.ipynb',\n",
       " 'today_corona.csv',\n",
       " 'June21_amazoncrawling.ipynb',\n",
       " 'June18.Upcoming Movie_Github.py',\n",
       " 'June29.ipynb',\n",
       " 'california_housing_test.csv',\n",
       " 'June 22_Corona_(including population).ipynb',\n",
       " 'KOLON_Best_Men.xlsx',\n",
       " 'June 22_Corona_Practice.ipynb',\n",
       " 'June23.ipynb',\n",
       " 'KOLON_Best_Women.xlsx',\n",
       " 'review.csv',\n",
       " 'June25.ipynb',\n",
       " 'June 22_corona2.ipynb',\n",
       " '.ipynb_checkpoints',\n",
       " 'June21_Amazon_Data_Collection_Practice.ipynb',\n",
       " 'June 22-CORONA.ipynb',\n",
       " 'June26_ProjectPractice.ipynb',\n",
       " 'June29_CaliforniaHousing.ipynb',\n",
       " 'June24_Pandas.ipynb',\n",
       " 'ShoppingMall_CrawlingEQL.ipynb',\n",
       " 'KOLON_BestSelling.ipynb',\n",
       " 'June18_Selenium.ipynb',\n",
       " 'June24_data_visualization.ipynb']"
      ]
     },
     "execution_count": 14,
     "metadata": {},
     "output_type": "execute_result"
    }
   ],
   "source": [
    "#여성 상품 리스트\n",
    "dat.to_excel(\"KOLON_Best_Women.xlsx\", index=False)\n",
    "os.listdir( os.getcwd() )"
   ]
  },
  {
   "cell_type": "code",
   "execution_count": 11,
   "metadata": {},
   "outputs": [
    {
     "data": {
      "text/plain": [
       "['covid_info_web_crawling.ipynb',\n",
       " 'June17_movie copy.ipynb',\n",
       " 'EQL_Best_Women.xlsx',\n",
       " 'california_housing_train.csv',\n",
       " 'ShoppingMall_CrawlingKOLONWomen.ipynb',\n",
       " 'June30_plotlyexpress.ipynb',\n",
       " '0628_Review.ipynb',\n",
       " 'company_info1.csv',\n",
       " 'June30_PlotlyPractice_Titanic.ipynb',\n",
       " '.DS_Store',\n",
       " 'June17_movie.ipynb',\n",
       " 'today_corona(population).xlsx',\n",
       " '스파이더맨리리뷰.csv',\n",
       " 'June21_auction.ipynb',\n",
       " 'June30_plotly.ipynb',\n",
       " 'today_corona.csv',\n",
       " 'June21_amazoncrawling.ipynb',\n",
       " 'June18.Upcoming Movie_Github.py',\n",
       " 'June29.ipynb',\n",
       " 'california_housing_test.csv',\n",
       " 'June 22_Corona_(including population).ipynb',\n",
       " 'KOLON_Best_Men.xlsx',\n",
       " 'June 22_Corona_Practice.ipynb',\n",
       " 'June23.ipynb',\n",
       " 'KOLON_Best_Women.xlsx',\n",
       " 'review.csv',\n",
       " 'June25.ipynb',\n",
       " 'June 22_corona2.ipynb',\n",
       " '.ipynb_checkpoints',\n",
       " 'June21_Amazon_Data_Collection_Practice.ipynb',\n",
       " 'June 22-CORONA.ipynb',\n",
       " 'June26_ProjectPractice.ipynb',\n",
       " 'June29_CaliforniaHousing.ipynb',\n",
       " 'June24_Pandas.ipynb',\n",
       " 'ShoppingMall_CrawlingEQL.ipynb',\n",
       " 'KOLON_BestSelling.ipynb',\n",
       " 'June18_Selenium.ipynb',\n",
       " 'June24_data_visualization.ipynb']"
      ]
     },
     "execution_count": 11,
     "metadata": {},
     "output_type": "execute_result"
    }
   ],
   "source": [
    "#남성 상품 리스트\n",
    "#dat.to_excel(\"KOLON_Best_Men.xlsx\", index=False)\n",
    "#os.listdir( os.getcwd() )"
   ]
  },
  {
   "cell_type": "code",
   "execution_count": null,
   "metadata": {},
   "outputs": [],
   "source": []
  }
 ],
 "metadata": {
  "kernelspec": {
   "display_name": "Python 3",
   "language": "python",
   "name": "python3"
  },
  "language_info": {
   "codemirror_mode": {
    "name": "ipython",
    "version": 3
   },
   "file_extension": ".py",
   "mimetype": "text/x-python",
   "name": "python",
   "nbconvert_exporter": "python",
   "pygments_lexer": "ipython3",
   "version": "3.8.5"
  }
 },
 "nbformat": 4,
 "nbformat_minor": 4
}
