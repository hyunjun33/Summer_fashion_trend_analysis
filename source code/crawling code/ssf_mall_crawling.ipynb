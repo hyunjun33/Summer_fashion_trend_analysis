{
 "cells": [
  {
   "cell_type": "code",
   "execution_count": 1,
   "id": "0b2e212f",
   "metadata": {},
   "outputs": [],
   "source": [
    "import sys\n",
    "import io\n",
    "import os\n",
    "\n",
    "from selenium import webdriver\n",
    "from bs4 import BeautifulSoup"
   ]
  },
  {
   "cell_type": "code",
   "execution_count": 65,
   "id": "540302c4",
   "metadata": {},
   "outputs": [],
   "source": [
    "driver = webdriver.Chrome(\"./chromedriver_90\")"
   ]
  },
  {
   "cell_type": "code",
   "execution_count": 66,
   "id": "e0f1803d",
   "metadata": {},
   "outputs": [],
   "source": [
    "url = \"https://www.ssfshop.com/Top-Sellers/list?dspCtgryNo=SFMA41A15&brandShopNo=&brndShopId=&etcCtgryNo=&ctgrySectCd=BST_CTGRY&keyword=&leftBrandNM=\"\n",
    "driver.get(url)"
   ]
  },
  {
   "cell_type": "code",
   "execution_count": 71,
   "id": "3be40682",
   "metadata": {},
   "outputs": [],
   "source": [
    "content_table = driver.find_element_by_id(\"listGoods\")"
   ]
  },
  {
   "cell_type": "code",
   "execution_count": 72,
   "id": "5a390b52",
   "metadata": {},
   "outputs": [],
   "source": [
    "display_good = content_table.find_element_by_id(\"dspGood\")"
   ]
  },
  {
   "cell_type": "code",
   "execution_count": 73,
   "id": "f3e11b26",
   "metadata": {},
   "outputs": [],
   "source": [
    "sixty_item = display_good.find_elements_by_tag_name(\"li\") # 60개 아이템"
   ]
  },
  {
   "cell_type": "code",
   "execution_count": 63,
   "id": "b2ac0a70",
   "metadata": {},
   "outputs": [],
   "source": [
    "item_link = sixty_item[0].find_element_by_tag_name(\"a\")\n",
    "item_info = sixty_item[0].find_element_by_class_name(\"info\").text\n",
    "item_link.click()"
   ]
  },
  {
   "cell_type": "code",
   "execution_count": 74,
   "id": "1e25b8bf",
   "metadata": {},
   "outputs": [
    {
     "name": "stdout",
     "output_type": "stream",
     "text": [
      "60\n",
      "60\n"
     ]
    }
   ],
   "source": [
    "all_item_links = []\n",
    "all_item_infos = []\n",
    "\n",
    "for li in sixty_item:\n",
    "    item_link = li.find_element_by_tag_name(\"a\")\n",
    "    item_info = li.find_element_by_class_name(\"info\").text\n",
    "    all_item_links.append(item_link)\n",
    "    all_item_infos.append(item_info)\n",
    "print(len(all_item_links))\n",
    "print(len(all_item_infos))"
   ]
  },
  {
   "cell_type": "code",
   "execution_count": 47,
   "id": "71877244",
   "metadata": {},
   "outputs": [],
   "source": [
    "# next_page_link_table = driver.find_element_by_id(\"pagingArea\")\n",
    "# next_page_link_table.find_element_by_id(\"page_2\").click()"
   ]
  },
  {
   "cell_type": "code",
   "execution_count": 48,
   "id": "84f0c23e",
   "metadata": {},
   "outputs": [
    {
     "name": "stdout",
     "output_type": "stream",
     "text": [
      "120\n",
      "120\n"
     ]
    }
   ],
   "source": [
    "# content_table = driver.find_element_by_id(\"listGoods\")\n",
    "# display_good = content_table.find_element_by_id(\"dspGood\")\n",
    "# another_sixty_item = display_good.find_elements_by_tag_name(\"li\")\n",
    "\n",
    "# for li in another_sixty_item:\n",
    "#     item_link = li.find_element_by_class_name(\"hover\")\n",
    "#     item_info = li.find_element_by_class_name(\"info\").text\n",
    "#     all_item_links.append(item_link)\n",
    "#     all_item_infos.append(item_info)\n",
    "# print(len(all_item_links))\n",
    "# print(len(all_item_infos))"
   ]
  },
  {
   "cell_type": "code",
   "execution_count": 75,
   "id": "77ecea9a",
   "metadata": {},
   "outputs": [],
   "source": [
    "all_product_info = []\n",
    "all_summary = []\n",
    "all_date = []\n",
    "all_comment = []\n",
    "\n",
    "for i in range(len(all_item_links)):\n",
    "    all_item_link[i].click()\n",
    "    \n",
    "    product_info = driver.find_element_by_id(\"about\").text\n",
    "    all_product_info.append(product_info)\n",
    "\n",
    "    review_li_tags = driver.find_element_by_id(\"searchGoodsReviewList\").find_element_by_tag_name(\"ul\").find_elements_by_tag_name(\"li\")\n",
    "    page_links = driver.find_element_by_class_name(\"page\").find_elements_by_tag_name(\"a\")\n",
    "    \n",
    "    for li in review_li_tags:\n",
    "\n",
    "        summary = li.find_element_by_class_name(\"summary\").text\n",
    "        date = li.find_element_by_class_name(\"date\").text\n",
    "        comment = li.find_element_by_class_name(\"content\").text\n",
    "    \n",
    "        all_summary.append(summary)\n",
    "        all_date.append(date)\n",
    "        all_comment.append(comment)\n",
    "\n",
    "        page_links[i].send_keys()"
   ]
  },
  {
   "cell_type": "code",
   "execution_count": 85,
   "id": "02b0866f",
   "metadata": {},
   "outputs": [
    {
     "name": "stdout",
     "output_type": "stream",
     "text": [
      "10\n",
      "10\n",
      "10\n"
     ]
    }
   ],
   "source": [
    "product_info = driver.find_element_by_id(\"about\").text\n",
    "all_product_info.append(product_info)\n",
    "\n",
    "review_li_tags = driver.find_element_by_id(\"searchGoodsReviewList\").find_element_by_tag_name(\"ul\").find_elements_by_tag_name(\"li\")\n",
    "page_links = driver.find_element_by_class_name(\"page\").find_elements_by_tag_name(\"a\")\n",
    "\n",
    "i = 0\n",
    "for li in review_li_tags:\n",
    "\n",
    "    summary = li.find_element_by_class_name(\"summary\").text\n",
    "    date = li.find_element_by_class_name(\"date\").text\n",
    "    comment = li.find_element_by_class_name(\"content\").text\n",
    "    \n",
    "    all_summary.append(summary)\n",
    "    all_date.append(date)\n",
    "    all_comment.append(comment)\n",
    "\n",
    "page_links[i].send_keys()\n",
    "i += 1\n",
    "\n",
    "\n",
    "print(len(all_summary))\n",
    "print(len(all_date))\n",
    "print(len(all_comment))"
   ]
  },
  {
   "cell_type": "code",
   "execution_count": 90,
   "id": "b1ca0b27",
   "metadata": {},
   "outputs": [],
   "source": [
    "page_links = driver.find_element_by_class_name(\"page\").find_elements_by_tag_name(\"a\")"
   ]
  },
  {
   "cell_type": "code",
   "execution_count": 97,
   "id": "a01d46df",
   "metadata": {},
   "outputs": [],
   "source": [
    "page_links[1].send_keys('\\n') # 2페이지로 이동"
   ]
  },
  {
   "cell_type": "code",
   "execution_count": 98,
   "id": "bbea515e",
   "metadata": {},
   "outputs": [
    {
     "data": {
      "text/plain": [
       "6"
      ]
     },
     "execution_count": 98,
     "metadata": {},
     "output_type": "execute_result"
    }
   ],
   "source": [
    "len(page_links)"
   ]
  },
  {
   "cell_type": "code",
   "execution_count": null,
   "id": "4e7ab99f",
   "metadata": {},
   "outputs": [],
   "source": []
  }
 ],
 "metadata": {
  "kernelspec": {
   "display_name": "Python 3",
   "language": "python",
   "name": "python3"
  },
  "language_info": {
   "codemirror_mode": {
    "name": "ipython",
    "version": 3
   },
   "file_extension": ".py",
   "mimetype": "text/x-python",
   "name": "python",
   "nbconvert_exporter": "python",
   "pygments_lexer": "ipython3",
   "version": "3.8.5"
  }
 },
 "nbformat": 4,
 "nbformat_minor": 5
}
